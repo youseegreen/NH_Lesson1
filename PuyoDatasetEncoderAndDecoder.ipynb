{
 "cells": [
  {
   "cell_type": "markdown",
   "metadata": {},
   "source": [
    "# ぷよぷよDatasetのエンコーダーとデコーダーです"
   ]
  },
  {
   "cell_type": "markdown",
   "metadata": {},
   "source": [
    "## 動作確認済み環境"
   ]
  },
  {
   "cell_type": "markdown",
   "metadata": {},
   "source": [
    "- Windows10\n",
    "- Anaconda3\n",
    "- python3.7\n",
    "- チュートリアル動かす以外にinstallしたモジュール(opencv, pandas) \n",
    "- current directoryに puyodataフォルダを追加  \n",
    "　　　　　　　　　　　　　"
   ]
  },
  {
   "cell_type": "code",
   "execution_count": 1,
   "metadata": {},
   "outputs": [],
   "source": [
    "# 必要となる変数類\n",
    "# 初めに実行してください\n",
    "\n",
    "import math\n",
    "# 小画像が入っているフォルダへのパス\n",
    "path_name = \"puyodata/\"\n",
    "# 合成画像を保存するフォルダへのパス\n",
    "encoded_path_name = \"encodeddata/\"\n",
    "\n",
    "train_name = \"train/img/\"\n",
    "test_name = \"test/img/\"\n",
    "file_name = \"\"\n",
    "extend_name = \".png\"\n",
    "\n",
    "# 小画像の枚数\n",
    "train_num = 4800\n",
    "test_num = 800\n",
    "\n",
    "# 小画像のサイズ\n",
    "img_width = 15\n",
    "img_height = 15\n",
    "\n",
    "# 合成画像と小画像の倍率\n",
    "train_scale_width = 120\n",
    "train_scale_height = 40\n",
    "test_scale_width = 40\n",
    "test_scale_height = 20\n",
    "\n",
    "# 合成画像のサイズ\n",
    "train_img_after_width = img_width * train_scale_width\n",
    "train_img_after_height = img_height * train_scale_height\n",
    "test_img_after_width = img_width * test_scale_width\n",
    "test_img_after_height = img_height * test_scale_height\n",
    "\n",
    "# 合成画像の枚数\n",
    "train_after_num = math.ceil(train_num / train_scale_width / train_scale_height)\n",
    "test_after_num = math.ceil(test_num / test_scale_width / test_scale_height)"
   ]
  },
  {
   "cell_type": "markdown",
   "metadata": {},
   "source": [
    "## 合成画像の分割（デコーダー）\n",
    "ぷよぷよデータセットの、4800枚+800枚の小画像をネット上にアップするのは遅い？ので、  \n",
    "それらの画像を数枚にまとめてあげています。\n",
    "\n",
    "それらをデコードするためのプログラムが以下になります。\n"
   ]
  },
  {
   "cell_type": "code",
   "execution_count": 2,
   "metadata": {},
   "outputs": [],
   "source": [
    "import cv2\n",
    "import numpy as np\n",
    "\n",
    "# trainデータのデコード\n",
    "ns = 0\n",
    "for nb in range(train_after_num):\n",
    "    encoded_img = cv2.imread(encoded_path_name + train_name + file_name + str(nb) + extend_name, 1)\n",
    "\n",
    "    for u in range(train_scale_width):\n",
    "        for v in range(train_scale_height):\n",
    "            if ns < train_num:\n",
    "                tmp = np.zeros((img_width, img_width, 3), np.uint8)\n",
    "                for x in range(img_width):\n",
    "                    for y in range(img_height):\n",
    "                        tmp[y,x] = encoded_img[v * img_height + y, u * img_width + x]\n",
    "                cv2.imwrite(path_name + train_name + file_name + str(ns) + extend_name, tmp)\n",
    "                ns += 1\n",
    "\n",
    "# testデータのデコード\n",
    "ns = 0\n",
    "for nb in range(test_after_num):\n",
    "    encoded_img = cv2.imread(encoded_path_name + test_name + file_name + str(nb) + extend_name, 1)\n",
    "\n",
    "    for u in range(test_scale_width):\n",
    "        for v in range(test_scale_height):\n",
    "            if ns < test_num:\n",
    "                tmp = np.zeros((img_width, img_width, 3), np.uint8)\n",
    "                for x in range(img_width):\n",
    "                    for y in range(img_height):\n",
    "                        tmp[y,x] = encoded_img[v * img_height + y, u * img_width + x]\n",
    "                cv2.imwrite(path_name + test_name + file_name + str(ns) + extend_name, tmp)\n",
    "                ns += 1\n",
    "\n",
    "\n"
   ]
  },
  {
   "cell_type": "markdown",
   "metadata": {},
   "source": [
    "## 小画像の合成（エンコーダー）\n",
    "小画像をエンコードする際はこちらを使います。\n"
   ]
  },
  {
   "cell_type": "code",
   "execution_count": 1,
   "metadata": {},
   "outputs": [
    {
     "ename": "NameError",
     "evalue": "name 'train_after_num' is not defined",
     "output_type": "error",
     "traceback": [
      "\u001b[1;31m---------------------------------------------------------------------------\u001b[0m",
      "\u001b[1;31mNameError\u001b[0m                                 Traceback (most recent call last)",
      "\u001b[1;32m<ipython-input-1-4652bf8c4e25>\u001b[0m in \u001b[0;36m<module>\u001b[1;34m\u001b[0m\n\u001b[0;32m      4\u001b[0m \u001b[1;31m# trainデータのエンコード\u001b[0m\u001b[1;33m\u001b[0m\u001b[1;33m\u001b[0m\u001b[1;33m\u001b[0m\u001b[0m\n\u001b[0;32m      5\u001b[0m \u001b[0mns\u001b[0m \u001b[1;33m=\u001b[0m \u001b[1;36m0\u001b[0m\u001b[1;33m\u001b[0m\u001b[1;33m\u001b[0m\u001b[0m\n\u001b[1;32m----> 6\u001b[1;33m \u001b[1;32mfor\u001b[0m \u001b[0mnb\u001b[0m \u001b[1;32min\u001b[0m \u001b[0mrange\u001b[0m\u001b[1;33m(\u001b[0m\u001b[0mtrain_after_num\u001b[0m\u001b[1;33m)\u001b[0m\u001b[1;33m:\u001b[0m\u001b[1;33m\u001b[0m\u001b[1;33m\u001b[0m\u001b[0m\n\u001b[0m\u001b[0;32m      7\u001b[0m     \u001b[0mencoded_img\u001b[0m \u001b[1;33m=\u001b[0m \u001b[0mnp\u001b[0m\u001b[1;33m.\u001b[0m\u001b[0mzeros\u001b[0m\u001b[1;33m(\u001b[0m\u001b[1;33m(\u001b[0m\u001b[0mtrain_img_after_height\u001b[0m\u001b[1;33m,\u001b[0m \u001b[0mtrain_img_after_width\u001b[0m\u001b[1;33m,\u001b[0m \u001b[1;36m3\u001b[0m\u001b[1;33m)\u001b[0m\u001b[1;33m,\u001b[0m \u001b[0mnp\u001b[0m\u001b[1;33m.\u001b[0m\u001b[0muint8\u001b[0m\u001b[1;33m)\u001b[0m\u001b[1;33m\u001b[0m\u001b[1;33m\u001b[0m\u001b[0m\n\u001b[0;32m      8\u001b[0m \u001b[1;33m\u001b[0m\u001b[0m\n",
      "\u001b[1;31mNameError\u001b[0m: name 'train_after_num' is not defined"
     ]
    }
   ],
   "source": [
    "import cv2\n",
    "import numpy as np\n",
    "\n",
    "# trainデータのエンコード\n",
    "ns = 0\n",
    "for nb in range(train_after_num):\n",
    "    encoded_img = np.zeros((train_img_after_height, train_img_after_width, 3), np.uint8)\n",
    "\n",
    "    for u in range(train_scale_width):\n",
    "        for v in range(train_scale_height):\n",
    "            if ns < train_num:\n",
    "                tmp = cv2.imread(path_name + train_name + file_name + str(ns) + extend_name, 1)\n",
    "                ns += 1    \n",
    "                for x in range(img_width):\n",
    "                    for y in range(img_height):\n",
    "                        encoded_img[v * img_height + y, u * img_width + x] = tmp[y,x]\n",
    "    \n",
    "    cv2.imwrite(encoded_path_name + train_name + file_name + str(nb) + extend_name, encoded_img)\n",
    "\n",
    "for ns in range(train_num):\n",
    "    tmp = cv2.imread(path_name + train_name + file_name + str(ns) + extend_name)\n",
    "\n",
    "\n",
    "# testデータのエンコード\n",
    "ns = 0\n",
    "for nb in range(test_after_num):\n",
    "    encoded_img = np.zeros((test_img_after_height, test_img_after_width, 3), np.uint8)\n",
    "\n",
    "    for u in range(test_scale_width):\n",
    "        for v in range(test_scale_height):\n",
    "            if ns < test_num:\n",
    "                tmp = cv2.imread(path_name + test_name + file_name + str(ns) + extend_name, 1)\n",
    "                ns += 1    \n",
    "                for x in range(img_width):\n",
    "                    for y in range(img_height):\n",
    "                        encoded_img[v * img_height + y, u * img_width + x] = tmp[y,x]\n",
    "    \n",
    "    cv2.imwrite(encoded_path_name + test_name + file_name + str(nb) + extend_name, encoded_img)\n",
    "\n",
    "for ns in range(test_num):\n",
    "    tmp = cv2.imread(path_name + test_name + file_name + str(ns) + extend_name)\n"
   ]
  },
  {
   "cell_type": "code",
   "execution_count": null,
   "metadata": {},
   "outputs": [],
   "source": []
  }
 ],
 "metadata": {
  "kernelspec": {
   "display_name": "Python 3.6.9 64-bit ('nextendedHand': conda)",
   "language": "python",
   "name": "python36964bitnextendedhandcondac19ae95aa69f4601a894d6b08d9b6316"
  },
  "language_info": {
   "codemirror_mode": {
    "name": "ipython",
    "version": 3
   },
   "file_extension": ".py",
   "mimetype": "text/x-python",
   "name": "python",
   "nbconvert_exporter": "python",
   "pygments_lexer": "ipython3",
   "version": "3.7.6-final"
  }
 },
 "nbformat": 4,
 "nbformat_minor": 1
}